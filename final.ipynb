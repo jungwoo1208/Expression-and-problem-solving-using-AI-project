{
  "cells": [
    {
      "cell_type": "code",
      "source": [
        "!cat /proc/uptime | awk '{printf(\"잔여시간 : %.2f\", 12-$1/60/60)}'"
      ],
      "metadata": {
        "colab": {
          "base_uri": "https://localhost:8080/"
        },
        "id": "XAyNetdJsPu0",
        "outputId": "6f1da610-7464-4eb2-e64d-31bb8fbe3db5"
      },
      "execution_count": null,
      "outputs": [
        {
          "output_type": "stream",
          "name": "stdout",
          "text": [
            "잔여시간 : 11.98"
          ]
        }
      ]
    },
    {
      "cell_type": "code",
      "execution_count": null,
      "metadata": {
        "colab": {
          "base_uri": "https://localhost:8080/"
        },
        "id": "65ypqq56yfVn",
        "outputId": "9b61154f-f5e0-4f27-d1ab-bd8bc3aa16fd"
      },
      "outputs": [
        {
          "output_type": "stream",
          "name": "stdout",
          "text": [
            "Requirement already satisfied: tensorboard in /usr/local/lib/python3.10/dist-packages (2.15.2)\n",
            "Requirement already satisfied: absl-py>=0.4 in /usr/local/lib/python3.10/dist-packages (from tensorboard) (1.4.0)\n",
            "Requirement already satisfied: grpcio>=1.48.2 in /usr/local/lib/python3.10/dist-packages (from tensorboard) (1.64.0)\n",
            "Requirement already satisfied: google-auth<3,>=1.6.3 in /usr/local/lib/python3.10/dist-packages (from tensorboard) (2.27.0)\n",
            "Requirement already satisfied: google-auth-oauthlib<2,>=0.5 in /usr/local/lib/python3.10/dist-packages (from tensorboard) (1.2.0)\n",
            "Requirement already satisfied: markdown>=2.6.8 in /usr/local/lib/python3.10/dist-packages (from tensorboard) (3.6)\n",
            "Requirement already satisfied: numpy>=1.12.0 in /usr/local/lib/python3.10/dist-packages (from tensorboard) (1.25.2)\n",
            "Requirement already satisfied: protobuf!=4.24.0,>=3.19.6 in /usr/local/lib/python3.10/dist-packages (from tensorboard) (3.20.3)\n",
            "Requirement already satisfied: requests<3,>=2.21.0 in /usr/local/lib/python3.10/dist-packages (from tensorboard) (2.31.0)\n",
            "Requirement already satisfied: setuptools>=41.0.0 in /usr/local/lib/python3.10/dist-packages (from tensorboard) (67.7.2)\n",
            "Requirement already satisfied: six>1.9 in /usr/local/lib/python3.10/dist-packages (from tensorboard) (1.16.0)\n",
            "Requirement already satisfied: tensorboard-data-server<0.8.0,>=0.7.0 in /usr/local/lib/python3.10/dist-packages (from tensorboard) (0.7.2)\n",
            "Requirement already satisfied: werkzeug>=1.0.1 in /usr/local/lib/python3.10/dist-packages (from tensorboard) (3.0.3)\n",
            "Requirement already satisfied: cachetools<6.0,>=2.0.0 in /usr/local/lib/python3.10/dist-packages (from google-auth<3,>=1.6.3->tensorboard) (5.3.3)\n",
            "Requirement already satisfied: pyasn1-modules>=0.2.1 in /usr/local/lib/python3.10/dist-packages (from google-auth<3,>=1.6.3->tensorboard) (0.4.0)\n",
            "Requirement already satisfied: rsa<5,>=3.1.4 in /usr/local/lib/python3.10/dist-packages (from google-auth<3,>=1.6.3->tensorboard) (4.9)\n",
            "Requirement already satisfied: requests-oauthlib>=0.7.0 in /usr/local/lib/python3.10/dist-packages (from google-auth-oauthlib<2,>=0.5->tensorboard) (1.3.1)\n",
            "Requirement already satisfied: charset-normalizer<4,>=2 in /usr/local/lib/python3.10/dist-packages (from requests<3,>=2.21.0->tensorboard) (3.3.2)\n",
            "Requirement already satisfied: idna<4,>=2.5 in /usr/local/lib/python3.10/dist-packages (from requests<3,>=2.21.0->tensorboard) (3.7)\n",
            "Requirement already satisfied: urllib3<3,>=1.21.1 in /usr/local/lib/python3.10/dist-packages (from requests<3,>=2.21.0->tensorboard) (2.0.7)\n",
            "Requirement already satisfied: certifi>=2017.4.17 in /usr/local/lib/python3.10/dist-packages (from requests<3,>=2.21.0->tensorboard) (2024.2.2)\n",
            "Requirement already satisfied: MarkupSafe>=2.1.1 in /usr/local/lib/python3.10/dist-packages (from werkzeug>=1.0.1->tensorboard) (2.1.5)\n",
            "Requirement already satisfied: pyasn1<0.7.0,>=0.4.6 in /usr/local/lib/python3.10/dist-packages (from pyasn1-modules>=0.2.1->google-auth<3,>=1.6.3->tensorboard) (0.6.0)\n",
            "Requirement already satisfied: oauthlib>=3.0.0 in /usr/local/lib/python3.10/dist-packages (from requests-oauthlib>=0.7.0->google-auth-oauthlib<2,>=0.5->tensorboard) (3.2.2)\n",
            "\u001b[2K     \u001b[90m━━━━━━━━━━━━━━━━━━━━━━━━━━━━━━━━━━━━━━━━\u001b[0m \u001b[32m290.1/290.1 kB\u001b[0m \u001b[31m5.0 MB/s\u001b[0m eta \u001b[36m0:00:00\u001b[0m\n",
            "\u001b[2K     \u001b[90m━━━━━━━━━━━━━━━━━━━━━━━━━━━━━━━━━━━━━━━━\u001b[0m \u001b[32m21.3/21.3 MB\u001b[0m \u001b[31m61.5 MB/s\u001b[0m eta \u001b[36m0:00:00\u001b[0m\n",
            "\u001b[?25hCollecting ultralytics\n",
            "  Downloading ultralytics-8.2.25-py3-none-any.whl (778 kB)\n",
            "\u001b[2K     \u001b[90m━━━━━━━━━━━━━━━━━━━━━━━━━━━━━━━━━━━━━━━━\u001b[0m \u001b[32m778.8/778.8 kB\u001b[0m \u001b[31m8.4 MB/s\u001b[0m eta \u001b[36m0:00:00\u001b[0m\n",
            "\u001b[?25hRequirement already satisfied: matplotlib>=3.3.0 in /usr/local/lib/python3.10/dist-packages (from ultralytics) (3.7.1)\n",
            "Requirement already satisfied: opencv-python>=4.6.0 in /usr/local/lib/python3.10/dist-packages (from ultralytics) (4.8.0.76)\n",
            "Requirement already satisfied: pillow>=7.1.2 in /usr/local/lib/python3.10/dist-packages (from ultralytics) (9.4.0)\n",
            "Requirement already satisfied: pyyaml>=5.3.1 in /usr/local/lib/python3.10/dist-packages (from ultralytics) (6.0.1)\n",
            "Requirement already satisfied: requests>=2.23.0 in /usr/local/lib/python3.10/dist-packages (from ultralytics) (2.31.0)\n",
            "Requirement already satisfied: scipy>=1.4.1 in /usr/local/lib/python3.10/dist-packages (from ultralytics) (1.11.4)\n",
            "Requirement already satisfied: torch>=1.8.0 in /usr/local/lib/python3.10/dist-packages (from ultralytics) (2.3.0+cu121)\n",
            "Requirement already satisfied: torchvision>=0.9.0 in /usr/local/lib/python3.10/dist-packages (from ultralytics) (0.18.0+cu121)\n",
            "Requirement already satisfied: tqdm>=4.64.0 in /usr/local/lib/python3.10/dist-packages (from ultralytics) (4.66.4)\n",
            "Requirement already satisfied: psutil in /usr/local/lib/python3.10/dist-packages (from ultralytics) (5.9.5)\n",
            "Requirement already satisfied: py-cpuinfo in /usr/local/lib/python3.10/dist-packages (from ultralytics) (9.0.0)\n",
            "Collecting thop>=0.1.1 (from ultralytics)\n",
            "  Downloading thop-0.1.1.post2209072238-py3-none-any.whl (15 kB)\n",
            "Requirement already satisfied: pandas>=1.1.4 in /usr/local/lib/python3.10/dist-packages (from ultralytics) (2.0.3)\n",
            "Requirement already satisfied: seaborn>=0.11.0 in /usr/local/lib/python3.10/dist-packages (from ultralytics) (0.13.1)\n",
            "Requirement already satisfied: contourpy>=1.0.1 in /usr/local/lib/python3.10/dist-packages (from matplotlib>=3.3.0->ultralytics) (1.2.1)\n",
            "Requirement already satisfied: cycler>=0.10 in /usr/local/lib/python3.10/dist-packages (from matplotlib>=3.3.0->ultralytics) (0.12.1)\n",
            "Requirement already satisfied: fonttools>=4.22.0 in /usr/local/lib/python3.10/dist-packages (from matplotlib>=3.3.0->ultralytics) (4.51.0)\n",
            "Requirement already satisfied: kiwisolver>=1.0.1 in /usr/local/lib/python3.10/dist-packages (from matplotlib>=3.3.0->ultralytics) (1.4.5)\n",
            "Requirement already satisfied: numpy>=1.20 in /usr/local/lib/python3.10/dist-packages (from matplotlib>=3.3.0->ultralytics) (1.25.2)\n",
            "Requirement already satisfied: packaging>=20.0 in /usr/local/lib/python3.10/dist-packages (from matplotlib>=3.3.0->ultralytics) (24.0)\n",
            "Requirement already satisfied: pyparsing>=2.3.1 in /usr/local/lib/python3.10/dist-packages (from matplotlib>=3.3.0->ultralytics) (3.1.2)\n",
            "Requirement already satisfied: python-dateutil>=2.7 in /usr/local/lib/python3.10/dist-packages (from matplotlib>=3.3.0->ultralytics) (2.8.2)\n",
            "Requirement already satisfied: pytz>=2020.1 in /usr/local/lib/python3.10/dist-packages (from pandas>=1.1.4->ultralytics) (2023.4)\n",
            "Requirement already satisfied: tzdata>=2022.1 in /usr/local/lib/python3.10/dist-packages (from pandas>=1.1.4->ultralytics) (2024.1)\n",
            "Requirement already satisfied: charset-normalizer<4,>=2 in /usr/local/lib/python3.10/dist-packages (from requests>=2.23.0->ultralytics) (3.3.2)\n",
            "Requirement already satisfied: idna<4,>=2.5 in /usr/local/lib/python3.10/dist-packages (from requests>=2.23.0->ultralytics) (3.7)\n",
            "Requirement already satisfied: urllib3<3,>=1.21.1 in /usr/local/lib/python3.10/dist-packages (from requests>=2.23.0->ultralytics) (2.0.7)\n",
            "Requirement already satisfied: certifi>=2017.4.17 in /usr/local/lib/python3.10/dist-packages (from requests>=2.23.0->ultralytics) (2024.2.2)\n",
            "Requirement already satisfied: filelock in /usr/local/lib/python3.10/dist-packages (from torch>=1.8.0->ultralytics) (3.14.0)\n",
            "Requirement already satisfied: typing-extensions>=4.8.0 in /usr/local/lib/python3.10/dist-packages (from torch>=1.8.0->ultralytics) (4.11.0)\n",
            "Requirement already satisfied: sympy in /usr/local/lib/python3.10/dist-packages (from torch>=1.8.0->ultralytics) (1.12)\n",
            "Requirement already satisfied: networkx in /usr/local/lib/python3.10/dist-packages (from torch>=1.8.0->ultralytics) (3.3)\n",
            "Requirement already satisfied: jinja2 in /usr/local/lib/python3.10/dist-packages (from torch>=1.8.0->ultralytics) (3.1.4)\n",
            "Requirement already satisfied: fsspec in /usr/local/lib/python3.10/dist-packages (from torch>=1.8.0->ultralytics) (2023.6.0)\n",
            "Requirement already satisfied: nvidia-cuda-nvrtc-cu12==12.1.105 in /usr/local/lib/python3.10/dist-packages (from torch>=1.8.0->ultralytics) (12.1.105)\n",
            "Requirement already satisfied: nvidia-cuda-runtime-cu12==12.1.105 in /usr/local/lib/python3.10/dist-packages (from torch>=1.8.0->ultralytics) (12.1.105)\n",
            "Requirement already satisfied: nvidia-cuda-cupti-cu12==12.1.105 in /usr/local/lib/python3.10/dist-packages (from torch>=1.8.0->ultralytics) (12.1.105)\n",
            "Requirement already satisfied: nvidia-cudnn-cu12==8.9.2.26 in /usr/local/lib/python3.10/dist-packages (from torch>=1.8.0->ultralytics) (8.9.2.26)\n",
            "Requirement already satisfied: nvidia-cublas-cu12==12.1.3.1 in /usr/local/lib/python3.10/dist-packages (from torch>=1.8.0->ultralytics) (12.1.3.1)\n",
            "Requirement already satisfied: nvidia-cufft-cu12==11.0.2.54 in /usr/local/lib/python3.10/dist-packages (from torch>=1.8.0->ultralytics) (11.0.2.54)\n",
            "Requirement already satisfied: nvidia-curand-cu12==10.3.2.106 in /usr/local/lib/python3.10/dist-packages (from torch>=1.8.0->ultralytics) (10.3.2.106)\n",
            "Requirement already satisfied: nvidia-cusolver-cu12==11.4.5.107 in /usr/local/lib/python3.10/dist-packages (from torch>=1.8.0->ultralytics) (11.4.5.107)\n",
            "Requirement already satisfied: nvidia-cusparse-cu12==12.1.0.106 in /usr/local/lib/python3.10/dist-packages (from torch>=1.8.0->ultralytics) (12.1.0.106)\n",
            "Requirement already satisfied: nvidia-nccl-cu12==2.20.5 in /usr/local/lib/python3.10/dist-packages (from torch>=1.8.0->ultralytics) (2.20.5)\n",
            "Requirement already satisfied: nvidia-nvtx-cu12==12.1.105 in /usr/local/lib/python3.10/dist-packages (from torch>=1.8.0->ultralytics) (12.1.105)\n",
            "Requirement already satisfied: triton==2.3.0 in /usr/local/lib/python3.10/dist-packages (from torch>=1.8.0->ultralytics) (2.3.0)\n",
            "Requirement already satisfied: nvidia-nvjitlink-cu12 in /usr/local/lib/python3.10/dist-packages (from nvidia-cusolver-cu12==11.4.5.107->torch>=1.8.0->ultralytics) (12.5.40)\n",
            "Requirement already satisfied: six>=1.5 in /usr/local/lib/python3.10/dist-packages (from python-dateutil>=2.7->matplotlib>=3.3.0->ultralytics) (1.16.0)\n",
            "Requirement already satisfied: MarkupSafe>=2.0 in /usr/local/lib/python3.10/dist-packages (from jinja2->torch>=1.8.0->ultralytics) (2.1.5)\n",
            "Requirement already satisfied: mpmath>=0.19 in /usr/local/lib/python3.10/dist-packages (from sympy->torch>=1.8.0->ultralytics) (1.3.0)\n",
            "Installing collected packages: thop, ultralytics\n",
            "Successfully installed thop-0.1.1.post2209072238 ultralytics-8.2.25\n",
            "\u001b[2K     \u001b[90m━━━━━━━━━━━━━━━━━━━━━━━━━━━━━━━━━━━━━━━━\u001b[0m \u001b[32m542.0/542.0 kB\u001b[0m \u001b[31m7.6 MB/s\u001b[0m eta \u001b[36m0:00:00\u001b[0m\n",
            "\u001b[2K     \u001b[90m━━━━━━━━━━━━━━━━━━━━━━━━━━━━━━━━━━━━━━━━\u001b[0m \u001b[32m116.3/116.3 kB\u001b[0m \u001b[31m7.8 MB/s\u001b[0m eta \u001b[36m0:00:00\u001b[0m\n",
            "\u001b[2K     \u001b[90m━━━━━━━━━━━━━━━━━━━━━━━━━━━━━━━━━━━━━━━━\u001b[0m \u001b[32m194.1/194.1 kB\u001b[0m \u001b[31m11.4 MB/s\u001b[0m eta \u001b[36m0:00:00\u001b[0m\n",
            "\u001b[2K     \u001b[90m━━━━━━━━━━━━━━━━━━━━━━━━━━━━━━━━━━━━━━━━\u001b[0m \u001b[32m134.8/134.8 kB\u001b[0m \u001b[31m10.4 MB/s\u001b[0m eta \u001b[36m0:00:00\u001b[0m\n",
            "\u001b[?25h"
          ]
        }
      ],
      "source": [
        "!pip install tensorboard\n",
        "!pip install -qqq accelerate==0.28.0\n",
        "!pip install ultralytics\n",
        "!pip install -qqq datasets\n"
      ]
    },
    {
      "cell_type": "code",
      "execution_count": null,
      "metadata": {
        "colab": {
          "base_uri": "https://localhost:8080/"
        },
        "id": "x6DnnN4xynO2",
        "outputId": "91792869-2dbe-4a5f-df01-65298f5081cc"
      },
      "outputs": [
        {
          "output_type": "stream",
          "name": "stdout",
          "text": [
            "Requirement already satisfied: tqdm in /usr/local/lib/python3.10/dist-packages (4.66.4)\n"
          ]
        }
      ],
      "source": [
        "!pip install -U -q PyDrive\n",
        "!pip install -U -q PyDrive tqdm\n",
        "!pip install tqdm"
      ]
    },
    {
      "cell_type": "code",
      "execution_count": null,
      "metadata": {
        "id": "qxq-Xzj5ypx3"
      },
      "outputs": [],
      "source": [
        "from ultralytics import YOLO\n",
        "import cv2\n",
        "import os\n",
        "import urllib"
      ]
    },
    {
      "cell_type": "code",
      "execution_count": null,
      "metadata": {
        "id": "75p3hoU2yq9x",
        "colab": {
          "base_uri": "https://localhost:8080/"
        },
        "outputId": "b692b0f6-80cd-4695-e568-1a80756eb2ca"
      },
      "outputs": [
        {
          "output_type": "stream",
          "name": "stdout",
          "text": [
            "Downloading https://github.com/ultralytics/assets/releases/download/v8.2.0/yolov8s.pt to 'pretrained/yolov8s.pt'...\n"
          ]
        },
        {
          "output_type": "stream",
          "name": "stderr",
          "text": [
            "100%|██████████| 21.5M/21.5M [00:00<00:00, 233MB/s]\n"
          ]
        }
      ],
      "source": [
        "# load model\n",
        "model = YOLO(\"./pretrained/yolov8s.pt\")"
      ]
    },
    {
      "cell_type": "code",
      "execution_count": null,
      "metadata": {
        "colab": {
          "base_uri": "https://localhost:8080/"
        },
        "id": "oBTBzxPMysKI",
        "outputId": "d82fa0e1-d427-4912-9059-0fec090bbc09"
      },
      "outputs": [
        {
          "output_type": "stream",
          "name": "stdout",
          "text": [
            "Mounted at /content/drive\n",
            " 122781909_5392025724156505_8284664466690123356_n.jpg\n",
            " 122856471_348830079745116_8696434209930368626_n.jpg\n",
            " 123026478_686136028983222_5613434096119609782_n.jpg\n",
            " 123105412_359702548444304_8979219840436935828_n.jpg\n",
            " 20160529_211020.jpg\n",
            " 20180325_192149.jpg\n",
            " 20191122_1.txt\n",
            " 20191123_1.txt\n",
            " 20191124_1.txt\n",
            " 20191125_1.txt\n",
            " 20191126_1.txt\n",
            " 20200128_140038.jpg\n",
            " 20200201_175007.jpg\n",
            " 20200201_175008.jpg\n",
            " 20200215_175041.jpg\n",
            " 20200222_173601.jpg\n",
            " 20200229_175124.jpg\n",
            "'2학기_중간고사 수업 계획서_양지고1.pdf'\n",
            "'30701 강정우.m4a'\n",
            " bongssam.com.gsite\n",
            "'Colab Notebooks'\n",
            " data.zip\n",
            " DeviceDescription.xml\n",
            " deviceId.txt\n",
            " dmc.txt\n",
            " FileTransport_1.xml\n",
            " G3_R16.pdf\n",
            " hangouts_incoming_call.ogg\n",
            " horserider.com.gsite\n",
            " IMG_0917.jpeg\n",
            " IMG_0994.PNG\n",
            " IMG_1554.png\n",
            " IMG_1964.png\n",
            " Midas.xml\n",
            " miniclipId.txt\n",
            " Notes_190610_080528_c31.pdf\n",
            " optin_trace.txt\n",
            "'Punch by Ekokubza123 Id-104183.wav'\n",
            "'Punch In The Face by Huminaatio Id-390462.wav'\n",
            "'PYTHON 동아리 보고서 최종-1.hwp'\n",
            "'PYTHON 동아리 보고서 최종.hwp'\n",
            "'Screenshot_20200323-162226_YouTube (1).jpg'\n",
            " Screenshot_20200323-162226_YouTube.jpg\n",
            " Screenshot_20200323-165632_Facebook.jpg\n",
            " tbs_download_lock_file45008.txt\n",
            " tensorboard_logs\n",
            " ucc\n",
            " WIN_20201113_12_42_36_Pro.jpg\n",
            " WIN_20201113_12_42_37_Pro.jpg\n",
            " WIN_20201113_12_42_38_Pro.jpg\n",
            " WIN_20201113_12_42_45_Pro.jpg\n",
            " WIN_20201202_13_59_24_Pro.jpg\n",
            " your_extracted_folder\n",
            "'(강정우,김대원,유희찬,이동하,이석주)ZI존 1조.xlsx'\n",
            "'건너간다(기록),10102,강정우.hwp'\n",
            "'과목별 독서목록_올림학원.hwp'\n",
            "'다름을 인정하고 차이를 존중하는 마음 (1).pptx'\n",
            "'동남아시아 문화권 (1).pptx'\n",
            "'동남아시아 문화권.pptx'\n",
            "'멘토멘티 보고서.hwp'\n",
            "'물리 과제.pdf'\n",
            "'인터넷 중독 예방 캠페인.pptx'\n",
            "'제목 없는 설문지.gform'\n",
            "'(주니어발표자료)ZI존 1조.pptx'\n",
            "'[주니어보고서]ZI존 1조.pdf'\n",
            "'주니어창의작품경진대회(Zl존 1조).xlsx'\n",
            "'주니어창의작품경진대회 결과보고서(ZI존 1조).hwp'\n",
            "'주니어창의작품경진대회 발표 자료(ZI존 1조).pptx'\n",
            "'주니어창의작품경진대회 포스터(ZI존 1조).jpg'\n",
            "'(주니어팀원구성)ZI존 1조.xlsx'\n",
            "'(주니어포스터)ZI존 1조 (1).pptx'\n",
            "'(주니어포스터)ZI존 1조.jpg'\n",
            "'(주니어포스터)ZI존 1조.pptx'\n",
            "'[주니어확인서]ZI존 1조.pdf'\n",
            " 캡처.PNG\n",
            "'화면 캡처 2020-11-02 090208.png'\n",
            "'화면 캡처 2020-11-02 090408.png'\n"
          ]
        },
        {
          "output_type": "stream",
          "name": "stderr",
          "text": [
            "Extracting: 100%|██████████| 398947/398947 [21:57<00:00, 302.90it/s]  "
          ]
        },
        {
          "output_type": "stream",
          "name": "stdout",
          "text": [
            "Zip file extracted successfully.\n"
          ]
        },
        {
          "output_type": "stream",
          "name": "stderr",
          "text": [
            "\n"
          ]
        }
      ],
      "source": [
        "from google.colab import drive\n",
        "drive.mount('/content/drive', force_remount=True)\n",
        "\n",
        "# Google Drive 내에서 파일 경로를 확인합니다.\n",
        "!ls /content/drive/MyDrive/\n",
        "\n",
        "# 확인된 zip 파일 경로를 설정합니다.\n",
        "zip_file_path = '/content/drive/MyDrive/data.zip'  # 실제 zip 파일 경로로 변경\n",
        "extract_to_path = '/dataset/data'  # 압축을 풀 폴더 경로 설정\n",
        "\n",
        "import zipfile\n",
        "import os\n",
        "from tqdm import tqdm\n",
        "\n",
        "# 압축을 풀 폴더가 존재하지 않으면 생성합니다.\n",
        "if not os.path.exists(extract_to_path):\n",
        "    os.makedirs(extract_to_path)\n",
        "\n",
        "# zip 파일 압축 해제\n",
        "with zipfile.ZipFile(zip_file_path, 'r') as zip_ref:\n",
        "    # 파일 리스트를 얻습니다.\n",
        "    file_list = zip_ref.namelist()\n",
        "\n",
        "    # tqdm을 사용하여 진행 상황을 표시합니다.\n",
        "    for file in tqdm(file_list, desc=\"Extracting\"):\n",
        "        zip_ref.extract(file, extract_to_path)\n",
        "\n",
        "print('Zip file extracted successfully.')\n"
      ]
    },
    {
      "cell_type": "code",
      "execution_count": null,
      "metadata": {
        "id": "DPIr3Afhysy6",
        "colab": {
          "base_uri": "https://localhost:8080/"
        },
        "outputId": "049fcc3f-a0d6-4f20-92dc-53490a7d16ae"
      },
      "outputs": [
        {
          "output_type": "stream",
          "name": "stdout",
          "text": [
            "Drive already mounted at /content/drive; to attempt to forcibly remount, call drive.mount(\"/content/drive\", force_remount=True).\n"
          ]
        }
      ],
      "source": [
        "from google.colab import drive\n",
        "drive.mount('/content/drive')"
      ]
    },
    {
      "cell_type": "code",
      "execution_count": null,
      "metadata": {
        "id": "-yr4z2DWyvTu",
        "colab": {
          "base_uri": "https://localhost:8080/"
        },
        "outputId": "0258cfbd-5977-4ddf-abc2-c0f7aaec1b16"
      },
      "outputs": [
        {
          "metadata": {
            "tags": null
          },
          "name": "stdout",
          "output_type": "stream",
          "text": [
            "CPU 코어 수: 16\n",
            "총 메모리 용량: 62.80 GB\n",
            "자동 할당된 워커 수: 15\n",
            "Ultralytics YOLOv8.2.25 🚀 Python-3.10.12 torch-2.3.0+cu121 CUDA:0 (NVIDIA L4, 22700MiB)\n",
            "\u001b[34m\u001b[1mengine/trainer: \u001b[0mtask=detect, mode=train, model=yolov8n.pt, data=/dataset/data/dataset.yaml, epochs=30, time=None, patience=10, batch=16, imgsz=640, save=True, save_period=-1, cache=False, device=None, workers=15, project=/content/drive/MyDrive/tensorboard_logs, name=train_experiment19, exist_ok=False, pretrained=True, optimizer=AdamW, verbose=True, seed=42, deterministic=True, single_cls=False, rect=False, cos_lr=False, close_mosaic=10, resume=False, amp=True, fraction=1.0, profile=False, freeze=[-1], multi_scale=False, overlap_mask=True, mask_ratio=4, dropout=0.0, val=True, split=val, save_json=False, save_hybrid=False, conf=None, iou=0.7, max_det=300, half=False, dnn=False, plots=True, source=None, vid_stride=1, stream_buffer=False, visualize=False, augment=False, agnostic_nms=False, classes=None, retina_masks=False, embed=None, show=False, save_frames=False, save_txt=False, save_conf=False, save_crop=False, show_labels=True, show_conf=True, show_boxes=True, line_width=None, format=torchscript, keras=False, optimize=False, int8=False, dynamic=False, simplify=False, opset=None, workspace=4, nms=False, lr0=0.001, lrf=0.01, momentum=0.937, weight_decay=0.0005, warmup_epochs=3.0, warmup_momentum=0.8, warmup_bias_lr=0.1, box=7.5, cls=0.5, dfl=1.5, pose=12.0, kobj=1.0, label_smoothing=0.0, nbs=64, hsv_h=0.015, hsv_s=0.7, hsv_v=0.4, degrees=0.0, translate=0.1, scale=0.5, shear=0.0, perspective=0.0, flipud=0.0, fliplr=0.5, bgr=0.0, mosaic=1.0, mixup=0.0, copy_paste=0.0, auto_augment=randaugment, erasing=0.4, crop_fraction=1.0, cfg=None, tracker=botsort.yaml, save_dir=/content/drive/MyDrive/tensorboard_logs/train_experiment19\n",
            "Overriding model.yaml nc=80 with nc=45\n",
            "\n",
            "                   from  n    params  module                                       arguments                     \n",
            "  0                  -1  1       464  ultralytics.nn.modules.conv.Conv             [3, 16, 3, 2]                 \n",
            "  1                  -1  1      4672  ultralytics.nn.modules.conv.Conv             [16, 32, 3, 2]                \n",
            "  2                  -1  1      7360  ultralytics.nn.modules.block.C2f             [32, 32, 1, True]             \n",
            "  3                  -1  1     18560  ultralytics.nn.modules.conv.Conv             [32, 64, 3, 2]                \n",
            "  4                  -1  2     49664  ultralytics.nn.modules.block.C2f             [64, 64, 2, True]             \n",
            "  5                  -1  1     73984  ultralytics.nn.modules.conv.Conv             [64, 128, 3, 2]               \n",
            "  6                  -1  2    197632  ultralytics.nn.modules.block.C2f             [128, 128, 2, True]           \n",
            "  7                  -1  1    295424  ultralytics.nn.modules.conv.Conv             [128, 256, 3, 2]              \n",
            "  8                  -1  1    460288  ultralytics.nn.modules.block.C2f             [256, 256, 1, True]           \n",
            "  9                  -1  1    164608  ultralytics.nn.modules.block.SPPF            [256, 256, 5]                 \n",
            " 10                  -1  1         0  torch.nn.modules.upsampling.Upsample         [None, 2, 'nearest']          \n",
            " 11             [-1, 6]  1         0  ultralytics.nn.modules.conv.Concat           [1]                           \n",
            " 12                  -1  1    148224  ultralytics.nn.modules.block.C2f             [384, 128, 1]                 \n",
            " 13                  -1  1         0  torch.nn.modules.upsampling.Upsample         [None, 2, 'nearest']          \n",
            " 14             [-1, 4]  1         0  ultralytics.nn.modules.conv.Concat           [1]                           \n",
            " 15                  -1  1     37248  ultralytics.nn.modules.block.C2f             [192, 64, 1]                  \n",
            " 16                  -1  1     36992  ultralytics.nn.modules.conv.Conv             [64, 64, 3, 2]                \n",
            " 17            [-1, 12]  1         0  ultralytics.nn.modules.conv.Concat           [1]                           \n",
            " 18                  -1  1    123648  ultralytics.nn.modules.block.C2f             [192, 128, 1]                 \n",
            " 19                  -1  1    147712  ultralytics.nn.modules.conv.Conv             [128, 128, 3, 2]              \n",
            " 20             [-1, 9]  1         0  ultralytics.nn.modules.conv.Concat           [1]                           \n",
            " 21                  -1  1    493056  ultralytics.nn.modules.block.C2f             [384, 256, 1]                 \n",
            " 22        [15, 18, 21]  1    760087  ultralytics.nn.modules.head.Detect           [45, [64, 128, 256]]          \n",
            "Model summary: 225 layers, 3019623 parameters, 3019607 gradients, 8.2 GFLOPs\n",
            "\n",
            "Transferred 319/355 items from pretrained weights\n",
            "\u001b[34m\u001b[1mTensorBoard: \u001b[0mStart with 'tensorboard --logdir /content/drive/MyDrive/tensorboard_logs/train_experiment19', view at http://localhost:6006/\n",
            "Freezing layer 'model.22.dfl.conv.weight'\n",
            "\u001b[34m\u001b[1mAMP: \u001b[0mrunning Automatic Mixed Precision (AMP) checks with YOLOv8n...\n",
            "\u001b[34m\u001b[1mAMP: \u001b[0mchecks passed ✅\n"
          ]
        },
        {
          "metadata": {
            "tags": null
          },
          "name": "stderr",
          "output_type": "stream",
          "text": [
            "\u001b[34m\u001b[1mtrain: \u001b[0mScanning /dataset/data/train/labels.cache... 159561 images, 0 backgrounds, 2 corrupt: 100%|██████████| 159561/159561 [00:00<?, ?it/s]"
          ]
        },
        {
          "metadata": {
            "tags": null
          },
          "name": "stdout",
          "output_type": "stream",
          "text": [
            "\u001b[34m\u001b[1mtrain: \u001b[0mWARNING ⚠️ /dataset/data/train/images/A190121XX_10712.jpg: ignoring corrupt image/label: non-normalized or out of bounds coordinates [     1.0203]\n",
            "\u001b[34m\u001b[1mtrain: \u001b[0mWARNING ⚠️ /dataset/data/train/images/A190121XX_14794.jpg: ignoring corrupt image/label: non-normalized or out of bounds coordinates [     1.0203]\n",
            "\u001b[34m\u001b[1mtrain: \u001b[0mWARNING ⚠️ /dataset/data/train/images/A240316XX_15042.jpg: 1 duplicate labels removed\n"
          ]
        },
        {
          "metadata": {
            "tags": null
          },
          "name": "stderr",
          "output_type": "stream",
          "text": [
            "\n"
          ]
        },
        {
          "metadata": {
            "tags": null
          },
          "name": "stdout",
          "output_type": "stream",
          "text": [
            "\u001b[34m\u001b[1malbumentations: \u001b[0mBlur(p=0.01, blur_limit=(3, 7)), MedianBlur(p=0.01, blur_limit=(3, 7)), ToGray(p=0.01), CLAHE(p=0.01, clip_limit=(1, 4.0), tile_grid_size=(8, 8))\n"
          ]
        },
        {
          "metadata": {
            "tags": null
          },
          "name": "stderr",
          "output_type": "stream",
          "text": [
            "/usr/lib/python3.10/multiprocessing/popen_fork.py:66: RuntimeWarning: os.fork() was called. os.fork() is incompatible with multithreaded code, and JAX is multithreaded, so this will likely lead to a deadlock.\n",
            "  self.pid = os.fork()\n",
            "\u001b[34m\u001b[1mval: \u001b[0mScanning /dataset/data/val/labels.cache... 39909 images, 0 backgrounds, 0 corrupt: 100%|██████████| 39909/39909 [00:00<?, ?it/s]\n"
          ]
        },
        {
          "metadata": {
            "tags": null
          },
          "name": "stdout",
          "output_type": "stream",
          "text": [
            "Plotting labels to /content/drive/MyDrive/tensorboard_logs/train_experiment19/labels.jpg... \n",
            "\u001b[34m\u001b[1moptimizer:\u001b[0m AdamW(lr=0.001, momentum=0.937) with parameter groups 57 weight(decay=0.0), 64 weight(decay=0.0005), 63 bias(decay=0.0)\n",
            "\u001b[34m\u001b[1mTensorBoard: \u001b[0mmodel graph visualization added ✅\n",
            "Image sizes 640 train, 640 val\n",
            "Using 15 dataloader workers\n",
            "Logging results to \u001b[1m/content/drive/MyDrive/tensorboard_logs/train_experiment19\u001b[0m\n",
            "Starting training for 30 epochs...\n",
            "\n",
            "      Epoch    GPU_mem   box_loss   cls_loss   dfl_loss  Instances       Size\n"
          ]
        },
        {
          "metadata": {
            "tags": null
          },
          "name": "stderr",
          "output_type": "stream",
          "text": [
            "       1/30      3.77G     0.8765          2      1.333         18        640: 100%|██████████| 9973/9973 [23:12<00:00,  7.16it/s]\n",
            "                 Class     Images  Instances      Box(P          R      mAP50  mAP50-95):   1%|          | 7/1248 [00:03<04:50,  4.27it/s]/usr/local/lib/python3.10/dist-packages/torch/nn/modules/conv.py:456: UserWarning: Plan failed with a cudnnException: CUDNN_BACKEND_EXECUTION_PLAN_DESCRIPTOR: cudnnFinalize Descriptor Failed cudnn_status: CUDNN_STATUS_NOT_SUPPORTED (Triggered internally at ../aten/src/ATen/native/cudnn/Conv_v8.cpp:919.)\n",
            "  return F.conv2d(input, weight, bias, self.stride,\n",
            "                 Class     Images  Instances      Box(P          R      mAP50  mAP50-95): 100%|██████████| 1248/1248 [03:59<00:00,  5.20it/s]\n"
          ]
        },
        {
          "metadata": {
            "tags": null
          },
          "name": "stdout",
          "output_type": "stream",
          "text": [
            "                   all      39909      46853      0.626      0.574      0.572      0.447\n",
            "\n",
            "      Epoch    GPU_mem   box_loss   cls_loss   dfl_loss  Instances       Size\n"
          ]
        },
        {
          "metadata": {
            "tags": null
          },
          "name": "stderr",
          "output_type": "stream",
          "text": [
            "       2/30      3.85G     0.8165      1.436      1.287         19        640: 100%|██████████| 9973/9973 [22:08<00:00,  7.51it/s]\n",
            "                 Class     Images  Instances      Box(P          R      mAP50  mAP50-95): 100%|██████████| 1248/1248 [03:50<00:00,  5.42it/s]\n"
          ]
        },
        {
          "metadata": {
            "tags": null
          },
          "name": "stdout",
          "output_type": "stream",
          "text": [
            "                   all      39909      46853      0.702      0.668      0.698      0.568\n",
            "\n",
            "      Epoch    GPU_mem   box_loss   cls_loss   dfl_loss  Instances       Size\n"
          ]
        },
        {
          "metadata": {
            "tags": null
          },
          "name": "stderr",
          "output_type": "stream",
          "text": [
            "       3/30      3.83G     0.7731      1.258      1.254         23        640: 100%|██████████| 9973/9973 [21:34<00:00,  7.71it/s]\n",
            "                 Class     Images  Instances      Box(P          R      mAP50  mAP50-95): 100%|██████████| 1248/1248 [03:52<00:00,  5.37it/s]\n"
          ]
        },
        {
          "metadata": {
            "tags": null
          },
          "name": "stdout",
          "output_type": "stream",
          "text": [
            "                   all      39909      46853      0.711      0.703      0.731      0.605\n",
            "\n",
            "      Epoch    GPU_mem   box_loss   cls_loss   dfl_loss  Instances       Size\n"
          ]
        },
        {
          "metadata": {
            "tags": null
          },
          "name": "stderr",
          "output_type": "stream",
          "text": [
            "       4/30      3.81G     0.7379      1.144      1.231         23        640: 100%|██████████| 9973/9973 [21:22<00:00,  7.77it/s]\n",
            "                 Class     Images  Instances      Box(P          R      mAP50  mAP50-95): 100%|██████████| 1248/1248 [04:03<00:00,  5.13it/s]\n"
          ]
        },
        {
          "metadata": {
            "tags": null
          },
          "name": "stdout",
          "output_type": "stream",
          "text": [
            "                   all      39909      46853      0.728      0.711      0.747      0.624\n",
            "\n",
            "      Epoch    GPU_mem   box_loss   cls_loss   dfl_loss  Instances       Size\n"
          ]
        },
        {
          "metadata": {
            "tags": null
          },
          "name": "stderr",
          "output_type": "stream",
          "text": [
            "       5/30      3.81G     0.7145      1.072      1.213         25        640: 100%|██████████| 9973/9973 [21:02<00:00,  7.90it/s]\n",
            "                 Class     Images  Instances      Box(P          R      mAP50  mAP50-95): 100%|██████████| 1248/1248 [03:59<00:00,  5.21it/s]\n"
          ]
        },
        {
          "metadata": {
            "tags": null
          },
          "name": "stdout",
          "output_type": "stream",
          "text": [
            "                   all      39909      46853      0.744      0.715      0.757      0.635\n",
            "\n",
            "      Epoch    GPU_mem   box_loss   cls_loss   dfl_loss  Instances       Size\n"
          ]
        },
        {
          "metadata": {
            "tags": null
          },
          "name": "stderr",
          "output_type": "stream",
          "text": [
            "       6/30      3.81G     0.6996      1.017      1.203         27        640: 100%|██████████| 9973/9973 [20:49<00:00,  7.98it/s]\n",
            "                 Class     Images  Instances      Box(P          R      mAP50  mAP50-95): 100%|██████████| 1248/1248 [03:56<00:00,  5.27it/s]\n"
          ]
        },
        {
          "metadata": {
            "tags": null
          },
          "name": "stdout",
          "output_type": "stream",
          "text": [
            "                   all      39909      46853      0.746      0.719      0.763      0.643\n",
            "\n",
            "      Epoch    GPU_mem   box_loss   cls_loss   dfl_loss  Instances       Size\n"
          ]
        },
        {
          "metadata": {
            "tags": null
          },
          "name": "stderr",
          "output_type": "stream",
          "text": [
            "       7/30      3.81G     0.6884      0.979      1.192         21        640: 100%|██████████| 9973/9973 [20:49<00:00,  7.98it/s]\n",
            "                 Class     Images  Instances      Box(P          R      mAP50  mAP50-95): 100%|██████████| 1248/1248 [04:12<00:00,  4.94it/s]\n"
          ]
        },
        {
          "metadata": {
            "tags": null
          },
          "name": "stdout",
          "output_type": "stream",
          "text": [
            "                   all      39909      46853      0.749      0.724      0.769      0.649\n",
            "\n",
            "      Epoch    GPU_mem   box_loss   cls_loss   dfl_loss  Instances       Size\n"
          ]
        },
        {
          "metadata": {
            "tags": null
          },
          "name": "stderr",
          "output_type": "stream",
          "text": [
            "       8/30      3.81G     0.6737      0.944      1.183         21        640: 100%|██████████| 9973/9973 [21:41<00:00,  7.66it/s]\n",
            "                 Class     Images  Instances      Box(P          R      mAP50  mAP50-95): 100%|██████████| 1248/1248 [04:08<00:00,  5.03it/s]\n"
          ]
        },
        {
          "metadata": {
            "tags": null
          },
          "name": "stdout",
          "output_type": "stream",
          "text": [
            "                   all      39909      46853      0.754      0.729      0.775      0.656\n",
            "\n",
            "      Epoch    GPU_mem   box_loss   cls_loss   dfl_loss  Instances       Size\n"
          ]
        },
        {
          "metadata": {
            "tags": null
          },
          "name": "stderr",
          "output_type": "stream",
          "text": [
            "       9/30      3.81G     0.6639     0.9148      1.176         24        640: 100%|██████████| 9973/9973 [21:47<00:00,  7.62it/s]\n",
            "                 Class     Images  Instances      Box(P          R      mAP50  mAP50-95): 100%|██████████| 1248/1248 [04:21<00:00,  4.77it/s]\n"
          ]
        },
        {
          "metadata": {
            "tags": null
          },
          "name": "stdout",
          "output_type": "stream",
          "text": [
            "                   all      39909      46853      0.762      0.734      0.781      0.663\n",
            "\n",
            "      Epoch    GPU_mem   box_loss   cls_loss   dfl_loss  Instances       Size\n"
          ]
        },
        {
          "metadata": {
            "tags": null
          },
          "name": "stderr",
          "output_type": "stream",
          "text": [
            "      10/30      3.81G     0.6588     0.8938      1.172         26        640: 100%|██████████| 9973/9973 [21:55<00:00,  7.58it/s]\n",
            "                 Class     Images  Instances      Box(P          R      mAP50  mAP50-95): 100%|██████████| 1248/1248 [04:22<00:00,  4.75it/s]\n"
          ]
        },
        {
          "metadata": {
            "tags": null
          },
          "name": "stdout",
          "output_type": "stream",
          "text": [
            "                   all      39909      46853      0.763      0.744      0.789      0.672\n",
            "\n",
            "      Epoch    GPU_mem   box_loss   cls_loss   dfl_loss  Instances       Size\n"
          ]
        },
        {
          "metadata": {
            "tags": null
          },
          "name": "stderr",
          "output_type": "stream",
          "text": [
            "      11/30      3.81G     0.6526     0.8751      1.167         17        640: 100%|██████████| 9973/9973 [21:45<00:00,  7.64it/s]\n",
            "                 Class     Images  Instances      Box(P          R      mAP50  mAP50-95): 100%|██████████| 1248/1248 [04:15<00:00,  4.89it/s]\n"
          ]
        },
        {
          "metadata": {
            "tags": null
          },
          "name": "stdout",
          "output_type": "stream",
          "text": [
            "                   all      39909      46853      0.767      0.752      0.798      0.681\n",
            "\n",
            "      Epoch    GPU_mem   box_loss   cls_loss   dfl_loss  Instances       Size\n"
          ]
        },
        {
          "metadata": {
            "tags": null
          },
          "name": "stderr",
          "output_type": "stream",
          "text": [
            "      12/30       3.8G     0.6459      0.854      1.162         24        640: 100%|██████████| 9973/9973 [21:57<00:00,  7.57it/s]\n",
            "                 Class     Images  Instances      Box(P          R      mAP50  mAP50-95): 100%|██████████| 1248/1248 [04:17<00:00,  4.84it/s]\n"
          ]
        },
        {
          "metadata": {
            "tags": null
          },
          "name": "stdout",
          "output_type": "stream",
          "text": [
            "                   all      39909      46853      0.773      0.758      0.807      0.692\n",
            "\n",
            "      Epoch    GPU_mem   box_loss   cls_loss   dfl_loss  Instances       Size\n"
          ]
        },
        {
          "metadata": {
            "tags": null
          },
          "name": "stderr",
          "output_type": "stream",
          "text": [
            "      13/30      3.81G       0.64     0.8395      1.158         21        640: 100%|██████████| 9973/9973 [22:11<00:00,  7.49it/s]\n",
            "                 Class     Images  Instances      Box(P          R      mAP50  mAP50-95): 100%|██████████| 1248/1248 [04:14<00:00,  4.90it/s]\n"
          ]
        },
        {
          "metadata": {
            "tags": null
          },
          "name": "stdout",
          "output_type": "stream",
          "text": [
            "                   all      39909      46853      0.771      0.768      0.815        0.7\n",
            "\n",
            "      Epoch    GPU_mem   box_loss   cls_loss   dfl_loss  Instances       Size\n"
          ]
        },
        {
          "metadata": {
            "tags": null
          },
          "name": "stderr",
          "output_type": "stream",
          "text": [
            "      14/30      3.81G     0.6353     0.8265      1.154         26        640: 100%|██████████| 9973/9973 [22:08<00:00,  7.51it/s]\n",
            "                 Class     Images  Instances      Box(P          R      mAP50  mAP50-95): 100%|██████████| 1248/1248 [04:05<00:00,  5.09it/s]\n"
          ]
        },
        {
          "metadata": {
            "tags": null
          },
          "name": "stdout",
          "output_type": "stream",
          "text": [
            "                   all      39909      46853      0.773      0.783      0.823      0.709\n",
            "\n",
            "      Epoch    GPU_mem   box_loss   cls_loss   dfl_loss  Instances       Size\n"
          ]
        },
        {
          "metadata": {
            "tags": null
          },
          "name": "stderr",
          "output_type": "stream",
          "text": [
            "      15/30      3.81G     0.6301     0.8129      1.151         28        640: 100%|██████████| 9973/9973 [22:15<00:00,  7.47it/s]\n",
            "                 Class     Images  Instances      Box(P          R      mAP50  mAP50-95): 100%|██████████| 1248/1248 [04:21<00:00,  4.78it/s]\n"
          ]
        },
        {
          "metadata": {
            "tags": null
          },
          "name": "stdout",
          "output_type": "stream",
          "text": [
            "                   all      39909      46853       0.78      0.787       0.83      0.716\n",
            "\n",
            "      Epoch    GPU_mem   box_loss   cls_loss   dfl_loss  Instances       Size\n"
          ]
        },
        {
          "metadata": {
            "tags": null
          },
          "name": "stderr",
          "output_type": "stream",
          "text": [
            "      16/30       3.8G     0.6259     0.8013      1.147         21        640: 100%|██████████| 9973/9973 [21:56<00:00,  7.57it/s]\n",
            "                 Class     Images  Instances      Box(P          R      mAP50  mAP50-95): 100%|██████████| 1248/1248 [04:19<00:00,  4.80it/s]\n"
          ]
        },
        {
          "metadata": {
            "tags": null
          },
          "name": "stdout",
          "output_type": "stream",
          "text": [
            "                   all      39909      46853      0.789       0.79      0.836      0.723\n",
            "\n",
            "      Epoch    GPU_mem   box_loss   cls_loss   dfl_loss  Instances       Size\n"
          ]
        },
        {
          "metadata": {
            "tags": null
          },
          "name": "stderr",
          "output_type": "stream",
          "text": [
            "      17/30      3.81G     0.6219     0.7898      1.145         12        640: 100%|██████████| 9973/9973 [22:01<00:00,  7.55it/s]\n",
            "                 Class     Images  Instances      Box(P          R      mAP50  mAP50-95): 100%|██████████| 1248/1248 [04:22<00:00,  4.75it/s]\n"
          ]
        },
        {
          "metadata": {
            "tags": null
          },
          "name": "stdout",
          "output_type": "stream",
          "text": [
            "                   all      39909      46853      0.796      0.792      0.841      0.729\n",
            "\n",
            "      Epoch    GPU_mem   box_loss   cls_loss   dfl_loss  Instances       Size\n"
          ]
        },
        {
          "metadata": {
            "tags": null
          },
          "name": "stderr",
          "output_type": "stream",
          "text": [
            "      18/30      3.81G      0.618     0.7769      1.141         23        640: 100%|██████████| 9973/9973 [22:47<00:00,  7.29it/s]\n",
            "                 Class     Images  Instances      Box(P          R      mAP50  mAP50-95): 100%|██████████| 1248/1248 [04:25<00:00,  4.69it/s]\n"
          ]
        },
        {
          "metadata": {
            "tags": null
          },
          "name": "stdout",
          "output_type": "stream",
          "text": [
            "                   all      39909      46853      0.795        0.8      0.846      0.734\n",
            "\n",
            "      Epoch    GPU_mem   box_loss   cls_loss   dfl_loss  Instances       Size\n"
          ]
        },
        {
          "metadata": {
            "tags": null
          },
          "name": "stderr",
          "output_type": "stream",
          "text": [
            "      19/30      3.81G     0.6142     0.7689      1.139         19        640: 100%|██████████| 9973/9973 [22:01<00:00,  7.55it/s]\n",
            "                 Class     Images  Instances      Box(P          R      mAP50  mAP50-95): 100%|██████████| 1248/1248 [04:05<00:00,  5.07it/s]\n"
          ]
        },
        {
          "metadata": {
            "tags": null
          },
          "name": "stdout",
          "output_type": "stream",
          "text": [
            "                   all      39909      46853      0.803        0.8       0.85      0.739\n",
            "\n",
            "      Epoch    GPU_mem   box_loss   cls_loss   dfl_loss  Instances       Size\n"
          ]
        },
        {
          "metadata": {
            "tags": null
          },
          "name": "stderr",
          "output_type": "stream",
          "text": [
            "      20/30       3.8G      0.611     0.7598      1.137         24        640: 100%|██████████| 9973/9973 [22:07<00:00,  7.51it/s]\n",
            "                 Class     Images  Instances      Box(P          R      mAP50  mAP50-95): 100%|██████████| 1248/1248 [04:26<00:00,  4.68it/s]\n"
          ]
        },
        {
          "metadata": {
            "tags": null
          },
          "name": "stdout",
          "output_type": "stream",
          "text": [
            "                   all      39909      46853      0.811      0.801      0.854      0.742\n",
            "Closing dataloader mosaic\n",
            "\u001b[34m\u001b[1malbumentations: \u001b[0mBlur(p=0.01, blur_limit=(3, 7)), MedianBlur(p=0.01, blur_limit=(3, 7)), ToGray(p=0.01), CLAHE(p=0.01, clip_limit=(1, 4.0), tile_grid_size=(8, 8))\n"
          ]
        },
        {
          "metadata": {
            "tags": null
          },
          "name": "stderr",
          "output_type": "stream",
          "text": [
            "/usr/lib/python3.10/multiprocessing/popen_fork.py:66: RuntimeWarning: os.fork() was called. os.fork() is incompatible with multithreaded code, and JAX is multithreaded, so this will likely lead to a deadlock.\n",
            "  self.pid = os.fork()\n"
          ]
        },
        {
          "metadata": {
            "tags": null
          },
          "name": "stdout",
          "output_type": "stream",
          "text": [
            "\n",
            "      Epoch    GPU_mem   box_loss   cls_loss   dfl_loss  Instances       Size\n"
          ]
        },
        {
          "metadata": {
            "tags": null
          },
          "name": "stderr",
          "output_type": "stream",
          "text": [
            "      21/30      3.81G     0.5449     0.6338      1.115          8        640: 100%|██████████| 9973/9973 [21:34<00:00,  7.70it/s]\n",
            "                 Class     Images  Instances      Box(P          R      mAP50  mAP50-95): 100%|██████████| 1248/1248 [04:26<00:00,  4.68it/s]\n"
          ]
        },
        {
          "metadata": {
            "tags": null
          },
          "name": "stdout",
          "output_type": "stream",
          "text": [
            "                   all      39909      46853      0.806      0.812      0.859      0.748\n",
            "\n",
            "      Epoch    GPU_mem   box_loss   cls_loss   dfl_loss  Instances       Size\n"
          ]
        },
        {
          "metadata": {
            "tags": null
          },
          "name": "stderr",
          "output_type": "stream",
          "text": [
            "      22/30      3.81G     0.5345     0.6109      1.106          7        640: 100%|██████████| 9973/9973 [21:40<00:00,  7.67it/s]\n",
            "                 Class     Images  Instances      Box(P          R      mAP50  mAP50-95): 100%|██████████| 1248/1248 [04:14<00:00,  4.91it/s]\n"
          ]
        },
        {
          "metadata": {
            "tags": null
          },
          "name": "stdout",
          "output_type": "stream",
          "text": [
            "                   all      39909      46853       0.81      0.815      0.863      0.753\n",
            "\n",
            "      Epoch    GPU_mem   box_loss   cls_loss   dfl_loss  Instances       Size\n"
          ]
        },
        {
          "output_type": "stream",
          "name": "stderr",
          "text": [
            "      23/30      3.81G     0.5277     0.5932        1.1          7        640: 100%|██████████| 9973/9973 [21:23<00:00,  7.77it/s]\n",
            "                 Class     Images  Instances      Box(P          R      mAP50  mAP50-95): 100%|██████████| 1248/1248 [04:22<00:00,  4.75it/s]\n"
          ]
        },
        {
          "output_type": "stream",
          "name": "stdout",
          "text": [
            "                   all      39909      46853      0.816      0.817      0.867      0.759\n",
            "\n",
            "      Epoch    GPU_mem   box_loss   cls_loss   dfl_loss  Instances       Size\n"
          ]
        },
        {
          "output_type": "stream",
          "name": "stderr",
          "text": [
            "      24/30       3.8G     0.5214     0.5768      1.095          7        640: 100%|██████████| 9973/9973 [22:05<00:00,  7.52it/s]\n",
            "                 Class     Images  Instances      Box(P          R      mAP50  mAP50-95): 100%|██████████| 1248/1248 [04:43<00:00,  4.41it/s]\n"
          ]
        },
        {
          "output_type": "stream",
          "name": "stdout",
          "text": [
            "                   all      39909      46853      0.812      0.827      0.871      0.764\n",
            "\n",
            "      Epoch    GPU_mem   box_loss   cls_loss   dfl_loss  Instances       Size\n"
          ]
        },
        {
          "output_type": "stream",
          "name": "stderr",
          "text": [
            "      25/30      3.81G     0.5157     0.5649       1.09          7        640: 100%|██████████| 9973/9973 [22:19<00:00,  7.45it/s]\n",
            "                 Class     Images  Instances      Box(P          R      mAP50  mAP50-95): 100%|██████████| 1248/1248 [04:46<00:00,  4.35it/s]\n"
          ]
        },
        {
          "output_type": "stream",
          "name": "stdout",
          "text": [
            "                   all      39909      46853      0.818       0.83      0.875      0.768\n",
            "\n",
            "      Epoch    GPU_mem   box_loss   cls_loss   dfl_loss  Instances       Size\n"
          ]
        },
        {
          "output_type": "stream",
          "name": "stderr",
          "text": [
            "      26/30      3.81G     0.5107     0.5523      1.086          7        640: 100%|██████████| 9973/9973 [22:17<00:00,  7.46it/s]\n",
            "                 Class     Images  Instances      Box(P          R      mAP50  mAP50-95): 100%|██████████| 1248/1248 [04:31<00:00,  4.60it/s]\n"
          ]
        },
        {
          "output_type": "stream",
          "name": "stdout",
          "text": [
            "                   all      39909      46853      0.821      0.835      0.879      0.772\n",
            "\n",
            "      Epoch    GPU_mem   box_loss   cls_loss   dfl_loss  Instances       Size\n"
          ]
        },
        {
          "output_type": "stream",
          "name": "stderr",
          "text": [
            "      27/30      3.81G     0.5044     0.5382      1.081          9        640: 100%|██████████| 9973/9973 [22:59<00:00,  7.23it/s]\n",
            "                 Class     Images  Instances      Box(P          R      mAP50  mAP50-95): 100%|██████████| 1248/1248 [04:24<00:00,  4.71it/s]\n"
          ]
        },
        {
          "output_type": "stream",
          "name": "stdout",
          "text": [
            "                   all      39909      46853      0.825      0.836      0.882      0.776\n",
            "\n",
            "      Epoch    GPU_mem   box_loss   cls_loss   dfl_loss  Instances       Size\n"
          ]
        },
        {
          "output_type": "stream",
          "name": "stderr",
          "text": [
            "      28/30       3.8G     0.4998     0.5281      1.077          8        640: 100%|██████████| 9973/9973 [23:13<00:00,  7.16it/s]\n",
            "                 Class     Images  Instances      Box(P          R      mAP50  mAP50-95): 100%|██████████| 1248/1248 [04:35<00:00,  4.54it/s]\n"
          ]
        },
        {
          "output_type": "stream",
          "name": "stdout",
          "text": [
            "                   all      39909      46853      0.827      0.838      0.884      0.779\n",
            "\n",
            "      Epoch    GPU_mem   box_loss   cls_loss   dfl_loss  Instances       Size\n"
          ]
        },
        {
          "output_type": "stream",
          "name": "stderr",
          "text": [
            "      29/30      3.81G     0.4953     0.5174      1.072          8        640: 100%|██████████| 9973/9973 [22:08<00:00,  7.51it/s]\n",
            "                 Class     Images  Instances      Box(P          R      mAP50  mAP50-95): 100%|██████████| 1248/1248 [04:38<00:00,  4.49it/s]\n"
          ]
        },
        {
          "output_type": "stream",
          "name": "stdout",
          "text": [
            "                   all      39909      46853       0.83      0.839      0.886      0.781\n",
            "\n",
            "      Epoch    GPU_mem   box_loss   cls_loss   dfl_loss  Instances       Size\n"
          ]
        },
        {
          "output_type": "stream",
          "name": "stderr",
          "text": [
            "      30/30      3.81G     0.4912     0.5071       1.07          8        640: 100%|██████████| 9973/9973 [23:05<00:00,  7.20it/s]\n",
            "                 Class     Images  Instances      Box(P          R      mAP50  mAP50-95): 100%|██████████| 1248/1248 [04:40<00:00,  4.45it/s]\n"
          ]
        },
        {
          "output_type": "stream",
          "name": "stdout",
          "text": [
            "                   all      39909      46853       0.83      0.843      0.888      0.784\n",
            "\n",
            "30 epochs completed in 13.188 hours.\n",
            "Optimizer stripped from /content/drive/MyDrive/tensorboard_logs/train_experiment19/weights/last.pt, 6.2MB\n",
            "Optimizer stripped from /content/drive/MyDrive/tensorboard_logs/train_experiment19/weights/best.pt, 6.2MB\n",
            "\n",
            "Validating /content/drive/MyDrive/tensorboard_logs/train_experiment19/weights/best.pt...\n",
            "Ultralytics YOLOv8.2.25 🚀 Python-3.10.12 torch-2.3.0+cu121 CUDA:0 (NVIDIA L4, 22700MiB)\n",
            "Model summary (fused): 168 layers, 3014423 parameters, 0 gradients, 8.1 GFLOPs\n"
          ]
        },
        {
          "output_type": "stream",
          "name": "stderr",
          "text": [
            "/usr/local/lib/python3.10/dist-packages/torch/nn/modules/conv.py:456: UserWarning: Plan failed with a cudnnException: CUDNN_BACKEND_EXECUTION_PLAN_DESCRIPTOR: cudnnFinalize Descriptor Failed cudnn_status: CUDNN_STATUS_NOT_SUPPORTED (Triggered internally at ../aten/src/ATen/native/cudnn/Conv_v8.cpp:919.)\n",
            "  return F.conv2d(input, weight, bias, self.stride,\n",
            "                 Class     Images  Instances      Box(P          R      mAP50  mAP50-95): 100%|██████████| 1248/1248 [03:58<00:00,  5.23it/s]\n"
          ]
        },
        {
          "output_type": "stream",
          "name": "stdout",
          "text": [
            "                   all      39909      46853       0.83      0.843      0.888      0.784\n",
            "              Eggplant      39909       1794      0.943       0.91      0.962      0.721\n",
            "             Crabstick      39909        822      0.869       0.96      0.975      0.925\n",
            "          Sweet_potato      39909       1520       0.87      0.848      0.868       0.69\n",
            "              Mackerel      39909        330      0.926      0.872      0.949       0.77\n",
            "               Seaweed      39909       1060      0.941      0.966      0.987      0.935\n",
            "        Yellow_paprika      39909       1396      0.728      0.828      0.825      0.786\n",
            "          Green_pepper      39909       1406      0.849      0.862      0.937      0.897\n",
            "                   Egg      39909       1459      0.659      0.698      0.756      0.684\n",
            "        Chicken_breast      39909       2135      0.935      0.956      0.983      0.877\n",
            "                Carrot      39909        367      0.868      0.866      0.934      0.771\n",
            "           Green_onion      39909       1157      0.929      0.968       0.98      0.894\n",
            "                  Tofu      39909        826      0.785      0.791      0.864      0.703\n",
            "                Garlic      39909        251      0.717      0.807      0.845      0.725\n",
            "                  Rice      39909        697      0.739      0.882      0.902      0.743\n",
            "               Cabbage      39909        180      0.868      0.917      0.964      0.934\n",
            "                Kimchi      39909        286      0.969       0.98      0.993      0.958\n",
            "              Mushroom      39909         82      0.651      0.501      0.616      0.458\n",
            "                 Bacon      39909        260      0.689      0.494      0.597      0.406\n",
            "              Broccoli      39909       1591      0.873      0.933      0.968      0.882\n",
            "        Vienna_sausage      39909        916      0.846      0.919      0.959      0.822\n",
            "            Pork_belly      39909       1495      0.906      0.895      0.954      0.897\n",
            "                Shrimp      39909        863      0.833       0.82        0.9      0.798\n",
            "               Sausage      39909       1467      0.923      0.936      0.976      0.915\n",
            "          Bean_sprouts      39909        265      0.818      0.943      0.951      0.893\n",
            "                Sundae      39909        358      0.675      0.766      0.815       0.71\n",
            "         Sliced_cheese      39909        833      0.776       0.93      0.906      0.813\n",
            "               Spinach      39909       2409      0.815      0.833      0.899      0.724\n",
            "           Rice_grains      39909       1856      0.792      0.773      0.772      0.583\n",
            "           Cooked_rice      39909       1558      0.951      0.954      0.984      0.959\n",
            "              Zucchini      39909       1422      0.896       0.93      0.971      0.907\n",
            "               Cabbage      39909        851      0.868      0.965      0.981      0.953\n",
            "                 Onion      39909       1398      0.892      0.889      0.953      0.705\n",
            "              Cucumber      39909       2098      0.862      0.876      0.927      0.719\n",
            "                 Squid      39909       1362      0.953      0.961       0.98      0.916\n",
            "           Red_cabbage      39909       1444      0.884       0.95      0.968      0.916\n",
            "           Canned_tuna      39909        705      0.965      0.979      0.991      0.842\n",
            "        Cheddar_cheese      39909       1018       0.77      0.806      0.881       0.79\n",
            "                Cheese      39909       1937      0.753      0.773      0.846      0.676\n",
            "       Soybean_sprouts      39909        736       0.94      0.965       0.99      0.941\n",
            "                Tomato      39909        356      0.872      0.939      0.965       0.88\n",
            "               Paprika      39909       1490      0.695      0.606      0.736      0.692\n",
            "        Yellow_paprika      39909        239      0.494      0.147      0.309      0.283\n",
            "           Red_paprika      39909       1879      0.588      0.741      0.703      0.645\n",
            "        Enoki_mushroom      39909        125      0.992      0.984      0.995       0.95\n",
            "                   Ham      39909        154      0.776       0.63      0.755      0.574\n",
            "Speed: 0.1ms preprocess, 0.7ms inference, 0.0ms loss, 1.1ms postprocess per image\n",
            "Results saved to \u001b[1m/content/drive/MyDrive/tensorboard_logs/train_experiment19\u001b[0m\n",
            "학습 시간: 795.81분\n",
            "Results file not found at /content/drive/MyDrive/tensorboard_logs/train_experiment/results.csv\n"
          ]
        }
      ],
      "source": [
        "import os\n",
        "import random\n",
        "import numpy as np\n",
        "import torch\n",
        "import psutil\n",
        "from ultralytics import YOLO\n",
        "from torch.utils.tensorboard import SummaryWriter\n",
        "import pandas as pd\n",
        "import matplotlib.pyplot as plt\n",
        "\n",
        "# 시드 설정 함수 정의\n",
        "def set_seed(seed_value=42):\n",
        "    np.random.seed(seed_value)\n",
        "    torch.manual_seed(seed_value)\n",
        "    torch.cuda.manual_seed(seed_value)\n",
        "    torch.cuda.manual_seed_all(seed_value)\n",
        "    random.seed(seed_value)\n",
        "    os.environ['PYTHONHASHSEED'] = str(seed_value)\n",
        "    torch.backends.cudnn.deterministic = True\n",
        "    torch.backends.cudnn.benchmark = False\n",
        "\n",
        "# 시드 설정\n",
        "set_seed()\n",
        "\n",
        "# CPU 코어 수 확인\n",
        "cpu_count = psutil.cpu_count(logical=True)\n",
        "print(f\"CPU 코어 수: {cpu_count}\")\n",
        "\n",
        "# 메모리 용량 확인\n",
        "memory_info = psutil.virtual_memory()\n",
        "total_memory = memory_info.total / (1024 ** 3)  # GB 단위로 변환\n",
        "print(f\"총 메모리 용량: {total_memory:.2f} GB\")\n",
        "\n",
        "# 워커 수 자동 할당\n",
        "# 메모리 사용량을 고려하여 워커 수를 설정 (여기서는 메모리의 1/8을 사용하도록 설정)\n",
        "# 이 값은 필요에 따라 조정할 수 있습니다.\n",
        "memory_limit = total_memory / 8  # 사용할 메모리의 1/8\n",
        "worker_memory_usage = 0.5  # 워커 당 메모리 사용량 (예상 값, GB)\n",
        "max_workers_by_memory = int(memory_limit / worker_memory_usage)\n",
        "\n",
        "# CPU 코어 수와 메모리 제한 중 최소값 선택\n",
        "workers = min(cpu_count * 2, max_workers_by_memory)\n",
        "print(f\"자동 할당된 워커 수: {workers}\")\n",
        "\n",
        "# TensorBoard 로그 디렉토리 설정\n",
        "log_dir = '/content/drive/MyDrive/tensorboard_logs'\n",
        "writer = SummaryWriter(log_dir)\n",
        "\n",
        "# 모델 로드\n",
        "model = YOLO('yolov8n.pt')\n",
        "\n",
        "# 모델 학습 전 시간 기록\n",
        "start_time = time.time()\n",
        "\n",
        "# 모델 학습\n",
        "results = model.train(\n",
        "    data='/dataset/data/dataset.yaml',  # 데이터셋 경로\n",
        "    epochs=30,  # 학습 에폭 수\n",
        "    patience=10,\n",
        "    imgsz=640,  # 이미지 크기\n",
        "    optimizer='AdamW',  # 옵티마이저 설정\n",
        "    lr0=0.001,  # 학습률 조정\n",
        "    freeze=[-1],  # 동결된 레이어 확인\n",
        "    workers=workers,  # 자동 할당된 데이터 로더 워커 수\n",
        "    project=log_dir,  # TensorBoard 로그 디렉토리 설정\n",
        "    name='train_experiment',  # 실험 이름 설정\n",
        "    cache=False,  # 메모리 문제로 인해 캐시 비활성화\n",
        "    batch=16,  # 배치 크기\n",
        "    verbose=True,  # 상세 로그 출력\n",
        "    deterministic=True,  # 재현성을 위해 결정론적 동작 설정\n",
        "    seed=42,  # 시드 설정\n",
        ")\n",
        "\n",
        "# 학습 종료 후 시간 기록\n",
        "end_time = time.time()\n",
        "total_time = end_time - start_time\n",
        "print(f\"학습 시간: {total_time / 60:.2f}분\")\n",
        "\n",
        "# 학습 결과 시각화\n",
        "def plot_results(log_dir):\n",
        "    results_file = os.path.join(log_dir, 'train_experiment', 'results.csv')\n",
        "    if os.path.exists(results_file):\n",
        "        results = pd.read_csv(results_file)\n",
        "\n",
        "        # 손실 값 시각화\n",
        "        plt.figure(figsize=(10, 6))\n",
        "        plt.plot(results['epoch'], results['box_loss'], label='Box Loss')\n",
        "        plt.plot(results['epoch'], results['cls_loss'], label='Class Loss')\n",
        "        plt.plot(results['epoch'], results['dfl_loss'], label='DFL Loss')\n",
        "        plt.xlabel('Epoch')\n",
        "        plt.ylabel('Loss')\n",
        "        plt.title('Training Loss over Epochs')\n",
        "        plt.legend()\n",
        "        plt.grid(True)\n",
        "        plt.show()\n",
        "\n",
        "        # 정확도 시각화 (필요시 사용, 예: mAP)\n",
        "        plt.figure(figsize=(10, 6))\n",
        "        plt.plot(results['epoch'], results['mAP50'], label='mAP@0.5')\n",
        "        plt.plot(results['epoch'], results['mAP50-95'], label='mAP@0.5:0.95')\n",
        "        plt.xlabel('Epoch')\n",
        "        plt.ylabel('mAP')\n",
        "        plt.title('Validation mAP over Epochs')\n",
        "        plt.legend()\n",
        "        plt.grid(True)\n",
        "        plt.show()\n",
        "    else:\n",
        "        print(f\"Results file not found at {results_file}\")\n",
        "\n",
        "plot_results(log_dir)\n"
      ]
    }
  ],
  "metadata": {
    "accelerator": "GPU",
    "colab": {
      "gpuType": "T4",
      "provenance": [],
      "machine_shape": "hm"
    },
    "kernelspec": {
      "display_name": "Python 3",
      "name": "python3"
    },
    "language_info": {
      "name": "python"
    }
  },
  "nbformat": 4,
  "nbformat_minor": 0
}